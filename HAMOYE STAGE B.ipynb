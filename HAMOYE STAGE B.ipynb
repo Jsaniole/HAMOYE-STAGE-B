{
 "cells": [
  {
   "cell_type": "code",
   "execution_count": 16,
   "id": "4b7d205c",
   "metadata": {},
   "outputs": [
    {
     "name": "stdout",
     "output_type": "stream",
     "text": [
      "   ID     Name  Marks Grade\n",
      "0  23      Ram     89     B\n",
      "1  43     Deep     97     A\n",
      "2  12     Yash     45     F\n",
      "3  13     Aman     78     C\n",
      "4  67    Arjun     56     E\n",
      "5  89   Aditya     76     C\n",
      "6  90    Divya    100     A\n",
      "7  56  Chalsea     87     B\n",
      "8  34    Akash     81     B\n"
     ]
    },
    {
     "data": {
      "application/vnd.jupyter.widget-view+json": {
       "model_id": "40ea26349b4b4ae6975f0c0fe64d1452",
       "version_major": 2,
       "version_minor": 0
      },
      "text/plain": [
       "Summarize dataset:   0%|          | 0/5 [00:00<?, ?it/s]"
      ]
     },
     "metadata": {},
     "output_type": "display_data"
    },
    {
     "data": {
      "application/vnd.jupyter.widget-view+json": {
       "model_id": "7aae399eb25c46d9b8655301c0835653",
       "version_major": 2,
       "version_minor": 0
      },
      "text/plain": [
       "Generate report structure:   0%|          | 0/1 [00:00<?, ?it/s]"
      ]
     },
     "metadata": {},
     "output_type": "display_data"
    },
    {
     "data": {
      "application/vnd.jupyter.widget-view+json": {
       "model_id": "819bcc816c0148039185032eb55229db",
       "version_major": 2,
       "version_minor": 0
      },
      "text/plain": [
       "Render HTML:   0%|          | 0/1 [00:00<?, ?it/s]"
      ]
     },
     "metadata": {},
     "output_type": "display_data"
    },
    {
     "data": {
      "application/vnd.jupyter.widget-view+json": {
       "model_id": "0c026e8f1437490f89cd12668c3089b6",
       "version_major": 2,
       "version_minor": 0
      },
      "text/plain": [
       "Export report to file:   0%|          | 0/1 [00:00<?, ?it/s]"
      ]
     },
     "metadata": {},
     "output_type": "display_data"
    }
   ],
   "source": [
    "import pandas as pd \n",
    "\n",
    "import pandas_profiling as pp  \n",
    "\n",
    "# dictionary of data \n",
    "\n",
    "dct = {'ID': {0: 23, 1: 43, 2: 12, 3: 13,  \n",
    "\n",
    "              4: 67, 5: 89, 6: 90, 7: 56,  \n",
    "\n",
    "              8: 34},  \n",
    "\n",
    "       'Name': {0: 'Ram', 1: 'Deep', 2: 'Yash', \n",
    "\n",
    "                3: 'Aman', 4: 'Arjun', 5: 'Aditya', \n",
    "\n",
    "                6: 'Divya', 7: 'Chalsea', \n",
    "\n",
    "                8: 'Akash' },  \n",
    "\n",
    "       'Marks': {0: 89, 1: 97, 2: 45, 3: 78, \n",
    "\n",
    "                 4: 56, 5: 76, 6: 100, 7: 87, \n",
    "\n",
    "                 8: 81},  \n",
    "\n",
    "       'Grade': {0: 'B', 1: 'A', 2: 'F', 3: 'C', \n",
    "\n",
    "                 4: 'E', 5: 'C', 6: 'A', 7: 'B', \n",
    "\n",
    "                 8: 'B'} \n",
    "\n",
    "      } \n",
    "data = pd.DataFrame(dct) \n",
    "\n",
    "print(data) \n",
    "\n",
    "# forming ProfileReport and save \n",
    "\n",
    "# as output.html file \n",
    "\n",
    "profile = pp.ProfileReport(data) \n",
    "\n",
    "profile.to_file(\"output.html\")"
   ]
  },
  {
   "cell_type": "code",
   "execution_count": 23,
   "id": "3e1c371c",
   "metadata": {},
   "outputs": [],
   "source": [
    "import matplotlib.pyplot as plt\n",
    "temporal_data = pd.read_csv(r\"C:\\Users\\Joyce Oludele\\temporal.csv\")\n",
    "plt.plot(temporal_data['Mes'], temporal_data['data science'], label = 'data ')\n",
    "%matplotlib inline"
   ]
  },
  {
   "cell_type": "code",
   "execution_count": null,
   "id": "33d0ae33",
   "metadata": {},
   "outputs": [],
   "source": []
  },
  {
   "cell_type": "code",
   "execution_count": null,
   "id": "85e3182c",
   "metadata": {},
   "outputs": [],
   "source": []
  }
 ],
 "metadata": {
  "kernelspec": {
   "display_name": "Python 3",
   "language": "python",
   "name": "python3"
  },
  "language_info": {
   "codemirror_mode": {
    "name": "ipython",
    "version": 3
   },
   "file_extension": ".py",
   "mimetype": "text/x-python",
   "name": "python",
   "nbconvert_exporter": "python",
   "pygments_lexer": "ipython3",
   "version": "3.8.8"
  }
 },
 "nbformat": 4,
 "nbformat_minor": 5
}
